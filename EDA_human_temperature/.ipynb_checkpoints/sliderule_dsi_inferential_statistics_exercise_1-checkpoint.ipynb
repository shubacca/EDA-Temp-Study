{
 "cells": [
  {
   "cell_type": "markdown",
   "metadata": {},
   "source": [
    "# What is the True Normal Human Body Temperature? \n",
    "\n",
    "#### Background\n",
    "\n",
    "The mean normal body temperature was held to be 37$^{\\circ}$C or 98.6$^{\\circ}$F for more than 120 years since it was first conceptualized and reported by Carl Wunderlich in a famous 1868 book. But, is this value statistically correct?"
   ]
  },
  {
   "cell_type": "markdown",
   "metadata": {},
   "source": [
    "<h3>Exercises</h3>\n",
    "\n",
    "<p>In this exercise, you will analyze a dataset of human body temperatures and employ the concepts of hypothesis testing, confidence intervals, and statistical significance.</p>\n",
    "\n",
    "<p>Answer the following questions <b>in this notebook below and submit to your Github account</b>.</p> \n",
    "\n",
    "<ol>\n",
    "<li>  Is the distribution of body temperatures normal? \n",
    "    <ul>\n",
    "    <li> Although this is not a requirement for the Central Limit Theorem to hold (read the introduction on Wikipedia's page about the CLT carefully: https://en.wikipedia.org/wiki/Central_limit_theorem), it gives us some peace of mind that the population may also be normally distributed if we assume that this sample is representative of the population.\n",
    "    <li> Think about the way you're going to check for the normality of the distribution. Graphical methods are usually used first, but there are also other ways: https://en.wikipedia.org/wiki/Normality_test\n",
    "    </ul>\n",
    "<li>  Is the sample size large? Are the observations independent?\n",
    "    <ul>\n",
    "    <li> Remember that this is a condition for the Central Limit Theorem, and hence the statistical tests we are using, to apply.\n",
    "    </ul>\n",
    "<li>  Is the true population mean really 98.6 degrees F?\n",
    "    <ul>\n",
    "    <li> First, try a bootstrap hypothesis test.\n",
    "    <li> Now, let's try frequentist statistical testing. Would you use a one-sample or two-sample test? Why?\n",
    "    <li> In this situation, is it appropriate to use the $t$ or $z$ statistic? \n",
    "    <li> Now try using the other test. How is the result be different? Why?\n",
    "    </ul>\n",
    "<li>  Draw a small sample of size 10 from the data and repeat both frequentist tests. \n",
    "    <ul>\n",
    "    <li> Which one is the correct one to use? \n",
    "    <li> What do you notice? What does this tell you about the difference in application of the $t$ and $z$ statistic?\n",
    "    </ul>\n",
    "<li>  At what temperature should we consider someone's temperature to be \"abnormal\"?\n",
    "    <ul>\n",
    "    <li> As in the previous example, try calculating everything using the boostrap approach, as well as the frequentist approach.\n",
    "    <li> Start by computing the margin of error and confidence interval. When calculating the confidence interval, keep in mind that you should use the appropriate formula for one draw, and not N draws.\n",
    "    </ul>\n",
    "<li>  Is there a significant difference between males and females in normal temperature?\n",
    "    <ul>\n",
    "    <li> What testing approach did you use and why?\n",
    "    <li> Write a story with your conclusion in the context of the original problem.\n",
    "    </ul>\n",
    "</ol>\n",
    "\n",
    "You can include written notes in notebook cells using Markdown: \n",
    "   - In the control panel at the top, choose Cell > Cell Type > Markdown\n",
    "   - Markdown syntax: http://nestacms.com/docs/creating-content/markdown-cheat-sheet\n",
    "\n",
    "#### Resources\n",
    "\n",
    "+ Information and data sources: http://www.amstat.org/publications/jse/datasets/normtemp.txt, http://www.amstat.org/publications/jse/jse_data_archive.htm\n",
    "+ Markdown syntax: http://nestacms.com/docs/creating-content/markdown-cheat-sheet\n",
    "\n",
    "****"
   ]
  },
  {
   "cell_type": "code",
   "execution_count": 2,
   "metadata": {},
   "outputs": [],
   "source": [
    "import pandas as pd\n",
    "import numpy as np\n",
    "import matplotlib.pyplot as plt \n",
    "from scipy.stats import shapiro   #using the Shapiro-Wilk test for tests of normality\n",
    "from scipy.stats import normaltest #using the D'Agostino's K**2 test\n",
    "\n",
    "df = pd.read_csv('data/human_body_temperature.csv')"
   ]
  },
  {
   "cell_type": "code",
   "execution_count": 3,
   "metadata": {},
   "outputs": [
    {
     "data": {
      "image/png": "[encoded data removed]",
      "text/plain": [
       "<Figure size 432x288 with 1 Axes>"
      ]
     },
     "metadata": {
      "needs_background": "light"
     },
     "output_type": "display_data"
    }
   ],
   "source": [
    "# Your work here.\n",
    "# 1. Test for normality\n",
    "\n",
    "binsize = int(np.sqrt(df.temperature.count()))\n",
    "_ = plt.hist(df.temperature, bins=binsize, density=True)"
   ]
  },
  {
   "cell_type": "code",
   "execution_count": 4,
   "metadata": {},
   "outputs": [],
   "source": [
    "data = df.temperature"
   ]
  },
  {
   "cell_type": "code",
   "execution_count": 5,
   "metadata": {},
   "outputs": [
    {
     "name": "stdout",
     "output_type": "stream",
     "text": [
      "Statistics=0.987, p=0.233\n",
      "Sample looks Gaussian (fail to reject H0)\n"
     ]
    }
   ],
   "source": [
    "# Shapiro's normality test\n",
    "\n",
    "stat, p = shapiro(data)\n",
    "print('Statistics=%.3f, p=%.3f' % (stat, p))\n",
    "# interpret\n",
    "alpha = 0.05\n",
    "if p > alpha:\n",
    "\tprint('Sample looks Gaussian (fail to reject H0)')\n",
    "else:\n",
    "\tprint('Sample does not look Gaussian (reject H0)')"
   ]
  },
  {
   "cell_type": "code",
   "execution_count": 6,
   "metadata": {},
   "outputs": [
    {
     "name": "stdout",
     "output_type": "stream",
     "text": [
      "Statistics=2.704, p=0.259\n",
      "Sample looks Gaussian (fail to reject H0)\n"
     ]
    }
   ],
   "source": [
    "# D'Agostino's normality test\n",
    "stat, p = normaltest(data)\n",
    "print('Statistics=%.3f, p=%.3f' % (stat, p))\n",
    "# interpret\n",
    "alpha = 0.05\n",
    "if p > alpha:\n",
    "\tprint('Sample looks Gaussian (fail to reject H0)')\n",
    "else:\n",
    "\tprint('Sample does not look Gaussian (reject H0)')"
   ]
  },
  {
   "cell_type": "markdown",
   "metadata": {},
   "source": [
    "2. The sample size is large, and independent (n > 30), and can be used for z-tests. It is random, independent and large. "
   ]
  },
  {
   "cell_type": "markdown",
   "metadata": {},
   "source": [
    "3. Is the true population mean really 98.6 degrees F?\n",
    "\n",
    "    First, try a bootstrap hypothesis test. \n",
    "    \n",
    "    Now, let's try frequentist statistical testing. Would you use a one-sample or two-sample test? Why?\n",
    "    \n",
    "    In this situation, is it appropriate to use the 𝑡 or 𝑧 statistic?\n",
    "\n",
    "Now try using the other test. How is the result be different? Why? "
   ]
  },
  {
   "cell_type": "code",
   "execution_count": 7,
   "metadata": {},
   "outputs": [
    {
     "data": {
      "text/plain": [
       "98.24923076923078"
      ]
     },
     "execution_count": 7,
     "metadata": {},
     "output_type": "execute_result"
    }
   ],
   "source": [
    "# Bootstrapping for hypothesis testing: H0 = population mean is 98.6F\n",
    "sample_mean = np.mean(data)\n",
    "sample_std = np.std(data)\n",
    "sample_mean"
   ]
  },
  {
   "cell_type": "code",
   "execution_count": 23,
   "metadata": {},
   "outputs": [],
   "source": [
    "def draw_bs_samples(data, func, size=1):\n",
    "    \"\"\"The function takes in 1-D NumPy array, a function and the number of iterations to return a computed bootstrapped\n",
    "    list of values (list of lists) bs_samples\"\"\"\n",
    "    bs_samples = []\n",
    "    #bs_std = np.empty(size)\n",
    "    for i in range(size):\n",
    "        rand_sample = np.random.choice(data, len(data))\n",
    "        bs_samples.append(rand_sample)\n",
    "        #bs_std[i] = np.std(rand_sample)\n",
    "        \n",
    "    return bs_samples"
   ]
  },
  {
   "cell_type": "code",
   "execution_count": 65,
   "metadata": {},
   "outputs": [],
   "source": [
    "def ecdf(data, color='blue'):\n",
    "    \"\"\"Visualize a 1-D array as a cumulative probability function\"\"\"\n",
    "    x = np.sort(data)\n",
    "    y = np.arange(1,len(data)+1)/len(x)\n",
    "    \n",
    "    _ = plt.plot(x,y,marker='.', alpha=0.1, color=color, markersize=1, linewidth='0')\n",
    "    plt.xlabel('Temperature (degF)')\n",
    "    plt.ylabel('Probability')\n",
    "    \n",
    "    return "
   ]
  },
  {
   "cell_type": "code",
   "execution_count": 10,
   "metadata": {},
   "outputs": [],
   "source": [
    "np.random.seed(1)\n",
    "bs_means = draw_bs_samples(data,np.mean,1000)"
   ]
  },
  {
   "cell_type": "code",
   "execution_count": 64,
   "metadata": {},
   "outputs": [
    {
     "data": {
      "image/png": "[encoded data removed]",
      "text/plain": [
       "<Figure size 432x288 with 1 Axes>"
      ]
     },
     "metadata": {
      "needs_background": "light"
     },
     "output_type": "display_data"
    }
   ],
   "source": [
    "for i in range(1000):\n",
    "    ecdf(bs_means[i], 'blue')\n",
    "    \n",
    "_ = plt.plot(np.sort(df.temperature),np.arange(1,len(df.temperature)+1)/len(data),color='red', marker='.', alpha=0.5)"
   ]
  },
  {
   "cell_type": "code",
   "execution_count": 80,
   "metadata": {},
   "outputs": [],
   "source": [
    "totalmeans = np.empty(len(bs_means))\n",
    "for i in range(len(bs_means)):\n",
    "    totalmeans[i] = np.mean(bs_means[i]) "
   ]
  },
  {
   "cell_type": "code",
   "execution_count": 81,
   "metadata": {},
   "outputs": [
    {
     "data": {
      "text/plain": [
       "0.0"
      ]
     },
     "execution_count": 81,
     "metadata": {},
     "output_type": "execute_result"
    }
   ],
   "source": [
    "# hypothesis test\n",
    "p = np.sum(np.mean(totalmeans) >= 98.6)/10000 \n",
    "p\n",
    "\n",
    "# Since the p-value is 0.0, even at the 10000 sample level, the null hypothesis can be rejected, that the population \n",
    "# mean is not 98.6 degF"
   ]
  },
  {
   "cell_type": "code",
   "execution_count": 83,
   "metadata": {},
   "outputs": [
    {
     "data": {
      "text/plain": [
       "-5.475925202078116"
      ]
     },
     "execution_count": 83,
     "metadata": {},
     "output_type": "execute_result"
    }
   ],
   "source": [
    "# Using t-test because of we only know the sample standard deviation and the sample means, even though the sample \n",
    "# size is big.\n",
    "\n",
    "t = (sample_mean - 98.6)/((sample_std) / np.sqrt(len(data)))\n",
    "t\n",
    "\n",
    "# Given the very low t-value, the corresponding p-value is close to 0. So we can reject the null hypothesis that \n",
    "# the mean temperature is 98.6 degF"
   ]
  },
  {
   "cell_type": "code",
   "execution_count": 15,
   "metadata": {},
   "outputs": [
    {
     "data": {
      "text/plain": [
       "-0.48027041116080765"
      ]
     },
     "execution_count": 15,
     "metadata": {},
     "output_type": "execute_result"
    }
   ],
   "source": [
    "# Using z-score now \n",
    "\n",
    "z = (sample_mean - 98.6)/(sample_std) #estimating the pop SD with sample SD\n",
    "z\n",
    "\n",
    "# Here the z-score is not so low, and the p-value is about ~0.316. So we cannot reject the null \n",
    "# hypothesis. The results are not similar here because a larger SD was used here (the z-curve is taller and \n",
    "# includes the population mean easily within its SD ranges). "
   ]
  },
  {
   "cell_type": "markdown",
   "metadata": {},
   "source": [
    "4. Draw a small sample of size 10 from the data and repeat both frequentist tests.\n",
    "\n",
    "    Which one is the correct one to use?\n",
    "    What do you notice? What does this tell you about the difference in application of the 𝑡 and 𝑧 statistic? "
   ]
  },
  {
   "cell_type": "code",
   "execution_count": 16,
   "metadata": {},
   "outputs": [
    {
     "data": {
      "text/plain": [
       "98.56"
      ]
     },
     "execution_count": 16,
     "metadata": {},
     "output_type": "execute_result"
    }
   ],
   "source": [
    "np.random.seed(2)\n",
    "small_sample = np.random.choice(data, 10, replace=False)\n",
    "np.mean(small_sample)"
   ]
  },
  {
   "cell_type": "code",
   "execution_count": 17,
   "metadata": {},
   "outputs": [
    {
     "data": {
      "text/plain": [
       "2.102866467616787"
      ]
     },
     "execution_count": 17,
     "metadata": {},
     "output_type": "execute_result"
    }
   ],
   "source": [
    "t_small = (np.mean(small_sample) - sample_mean)/(np.std(small_sample) / np.sqrt(len(small_sample)))\n",
    "t_small\n",
    "\n",
    "# The critical p-value is 1.83 at the alpha value of 0.05. Since the calculated t-value is higher than this, we can\n",
    "# reject the null hypothesis, that the mean of our small sample (98.56) is similar to the actual sample mean (98.25). "
   ]
  },
  {
   "cell_type": "code",
   "execution_count": 18,
   "metadata": {},
   "outputs": [
    {
     "data": {
      "text/plain": [
       "0.6649847652861759"
      ]
     },
     "execution_count": 18,
     "metadata": {},
     "output_type": "execute_result"
    }
   ],
   "source": [
    "z_small = (np.mean(small_sample) - sample_mean)/(np.std(small_sample) )\n",
    "z_small\n",
    "\n",
    "# The corresponding p-value is 0.2546. We cannot reject the null hypothesis here at the significance level of both \n",
    "# 0.10 and 0.05. Thus, accordingly, we cannot conclude that the mean of our small sample (98.56) is different \n",
    "# from the actual sample mean (98.25). "
   ]
  },
  {
   "cell_type": "markdown",
   "metadata": {},
   "source": [
    "Here also, we see a big difference in the t- and z-values, due to the small sample sizes. The correct value to use is the t-statistic because we don't know the population SD, and the sample size is small. Please note that here the values are being compared with the mean of the initial sample, and not the one calculated using the bootstrap technique, or 98.6degF."
   ]
  },
  {
   "cell_type": "markdown",
   "metadata": {},
   "source": [
    "5. At what temperature should we consider someone's temperature to be \"abnormal\"?\n",
    "\n",
    "    As in the previous example, try calculating everything using the boostrap approach, as well as the frequentist approach.\n",
    "    Start by computing the margin of error and confidence interval. When calculating the confidence interval, keep in mind that you should use the appropriate formula for one draw, and not N draws. "
   ]
  },
  {
   "cell_type": "code",
   "execution_count": 21,
   "metadata": {},
   "outputs": [
    {
     "data": {
      "text/plain": [
       "Text(0, 0.5, 'Frequency Distribution')"
      ]
     },
     "execution_count": 21,
     "metadata": {},
     "output_type": "execute_result"
    },
    {
     "data": {
      "image/png": "[encoded data removed]",
      "text/plain": [
       "<Figure size 432x288 with 1 Axes>"
      ]
     },
     "metadata": {
      "needs_background": "light"
     },
     "output_type": "display_data"
    }
   ],
   "source": [
    "#Bootstrapping method: creating many different permutations to create the confidence intervals\n",
    "means = np.empty(len(bs_means))\n",
    "for i in range(len(bs_means)):\n",
    "    means[i] = np.mean(bs_means[i])\n",
    "\n",
    "_1 = plt.hist(means, bins=int(np.sqrt(1000)), alpha=0.3, color='g')\n",
    "plt.xlabel('Temperature (degF)')\n",
    "plt.ylabel('Frequency Distribution')"
   ]
  },
  {
   "cell_type": "code",
   "execution_count": 26,
   "metadata": {},
   "outputs": [
    {
     "name": "stdout",
     "output_type": "stream",
     "text": [
      "The 95% confidence interval using the bootstrap method is [98.11998077 98.37388462] degrees F, and that if the \n",
      "temperature falls outside of these values, it is considered abnormal\n"
     ]
    }
   ],
   "source": [
    "CI = np.percentile(means,[2.5,97.5])\n",
    "print('The 95% confidence interval using the bootstrap method is ' + str(CI) +' degrees F, and that if the \\ntemperature falls outside of these values, it is considered abnormal')"
   ]
  },
  {
   "cell_type": "code",
   "execution_count": 38,
   "metadata": {},
   "outputs": [
    {
     "name": "stdout",
     "output_type": "stream",
     "text": [
      "Hence the 95% CI using the t-statistics is [98.18501560432246, 98.31377208798524] and the corresponding margin of \n",
      "error is 0.12734016234250206\n"
     ]
    }
   ],
   "source": [
    "# Frequentist method : t-value\n",
    "# The critical t-value for a two-tailed test at 129 degrees of freedom at 95% CI is 1.978\n",
    "# The standard deviation of the population using hacker stats is given by\n",
    "\n",
    "pop_sd = np.std(means)\n",
    "t_CI = [np.mean(means)-pop_sd, np.mean(means)+pop_sd]\n",
    "MoE = 1.978 * pop_sd\n",
    "print('Hence the 95% CI using the t-statistics is ' + str(t_CI) +' and the corresponding margin of \\nerror is ' + str(MoE))"
   ]
  },
  {
   "cell_type": "code",
   "execution_count": 39,
   "metadata": {},
   "outputs": [
    {
     "name": "stdout",
     "output_type": "stream",
     "text": [
      "Hence the 95% CI using the z-score is [98.18501560432246, 98.31377208798524] and the corresponding margin of \n",
      "error is 0.12618135398953692\n"
     ]
    }
   ],
   "source": [
    "# Frequentist method :z-score\n",
    "# The critical z-score for a two-tailed test at 95% CI is 1.96\n",
    "# The standard deviation of the population using hacker stats is given by\n",
    "\n",
    "pop_sd = np.std(means)\n",
    "z_CI = [np.mean(means)-pop_sd, np.mean(means)+pop_sd]\n",
    "MoE = 1.96 * pop_sd\n",
    "print('Hence the 95% CI using the z-score is ' + str(z_CI) +' and the corresponding margin of \\nerror is ' + str(MoE))"
   ]
  },
  {
   "cell_type": "markdown",
   "metadata": {},
   "source": [
    "6. Is there a significant difference between males and females in normal temperature?\n",
    "\n",
    "    What testing approach did you use and why?\n",
    "    Write a story with your conclusion in the context of the original problem. "
   ]
  },
  {
   "cell_type": "code",
   "execution_count": 49,
   "metadata": {},
   "outputs": [
    {
     "data": {
      "text/html": [
       "<div>\n",
       "<style scoped>\n",
       "    .dataframe tbody tr th:only-of-type {\n",
       "        vertical-align: middle;\n",
       "    }\n",
       "\n",
       "    .dataframe tbody tr th {\n",
       "        vertical-align: top;\n",
       "    }\n",
       "\n",
       "    .dataframe thead th {\n",
       "        text-align: right;\n",
       "    }\n",
       "</style>\n",
       "<table border=\"1\" class=\"dataframe\">\n",
       "  <thead>\n",
       "    <tr style=\"text-align: right;\">\n",
       "      <th></th>\n",
       "      <th>temperature</th>\n",
       "      <th>heart_rate</th>\n",
       "    </tr>\n",
       "    <tr>\n",
       "      <th>gender</th>\n",
       "      <th></th>\n",
       "      <th></th>\n",
       "    </tr>\n",
       "  </thead>\n",
       "  <tbody>\n",
       "    <tr>\n",
       "      <th>F</th>\n",
       "      <td>98.393846</td>\n",
       "      <td>74.153846</td>\n",
       "    </tr>\n",
       "    <tr>\n",
       "      <th>M</th>\n",
       "      <td>98.104615</td>\n",
       "      <td>73.369231</td>\n",
       "    </tr>\n",
       "  </tbody>\n",
       "</table>\n",
       "</div>"
      ],
      "text/plain": [
       "        temperature  heart_rate\n",
       "gender                         \n",
       "F         98.393846   74.153846\n",
       "M         98.104615   73.369231"
      ]
     },
     "execution_count": 49,
     "metadata": {},
     "output_type": "execute_result"
    }
   ],
   "source": [
    "sample_gender_mean_df = df.groupby('gender').mean()\n",
    "sample_gender_mean_df    # gives the sample mean for the temperatures and heart rates for M and F"
   ]
  },
  {
   "cell_type": "code",
   "execution_count": 56,
   "metadata": {},
   "outputs": [
    {
     "data": {
      "text/html": [
       "<div>\n",
       "<style scoped>\n",
       "    .dataframe tbody tr th:only-of-type {\n",
       "        vertical-align: middle;\n",
       "    }\n",
       "\n",
       "    .dataframe tbody tr th {\n",
       "        vertical-align: top;\n",
       "    }\n",
       "\n",
       "    .dataframe thead th {\n",
       "        text-align: right;\n",
       "    }\n",
       "</style>\n",
       "<table border=\"1\" class=\"dataframe\">\n",
       "  <thead>\n",
       "    <tr style=\"text-align: right;\">\n",
       "      <th></th>\n",
       "      <th>temperature</th>\n",
       "      <th>gender</th>\n",
       "      <th>heart_rate</th>\n",
       "    </tr>\n",
       "  </thead>\n",
       "  <tbody>\n",
       "    <tr>\n",
       "      <th>0</th>\n",
       "      <td>99.3</td>\n",
       "      <td>F</td>\n",
       "      <td>68.0</td>\n",
       "    </tr>\n",
       "    <tr>\n",
       "      <th>1</th>\n",
       "      <td>98.4</td>\n",
       "      <td>F</td>\n",
       "      <td>81.0</td>\n",
       "    </tr>\n",
       "    <tr>\n",
       "      <th>3</th>\n",
       "      <td>99.2</td>\n",
       "      <td>F</td>\n",
       "      <td>66.0</td>\n",
       "    </tr>\n",
       "    <tr>\n",
       "      <th>4</th>\n",
       "      <td>98.0</td>\n",
       "      <td>F</td>\n",
       "      <td>73.0</td>\n",
       "    </tr>\n",
       "    <tr>\n",
       "      <th>8</th>\n",
       "      <td>98.4</td>\n",
       "      <td>F</td>\n",
       "      <td>84.0</td>\n",
       "    </tr>\n",
       "  </tbody>\n",
       "</table>\n",
       "</div>"
      ],
      "text/plain": [
       "   temperature gender  heart_rate\n",
       "0         99.3      F        68.0\n",
       "1         98.4      F        81.0\n",
       "3         99.2      F        66.0\n",
       "4         98.0      F        73.0\n",
       "8         98.4      F        84.0"
      ]
     },
     "execution_count": 56,
     "metadata": {},
     "output_type": "execute_result"
    }
   ],
   "source": [
    "#Testing the null hypothesis that the pop mean of males is the same as pop mean of females: need to do bootstrap\n",
    "females = df[df['gender'] == 'F']\n",
    "males = df[df['gender'] == 'M']\n",
    "females.head()"
   ]
  },
  {
   "cell_type": "code",
   "execution_count": 62,
   "metadata": {},
   "outputs": [
    {
     "data": {
      "text/plain": [
       "[array([ 98.8,  99.2,  98.8,  99. ,  97.6,  99.9, 100. ,  99.9,  98.3,\n",
       "         98.7,  99. ,  98. ,  97.7,  98. ,  98.2,  99. , 100. ,  97.9,\n",
       "         97.8,  99.2,  96.8,  97.8,  98. ,  97.7,  98.3,  98.8, 100.8,\n",
       "         99.4,  98.1,  98.8,  98.8,  98.3,  98.4,  98. ,  98.4,  96.8,\n",
       "         98. ,  98.7,  98.8,  98.8,  98.8,  98.8,  99.2,  98.1,  98.2,\n",
       "         98.8,  97.8,  98.8,  97.7, 100. ,  98.6,  99.9,  98.6,  98.3,\n",
       "         99.2,  97.9,  98.6,  98.6,  98.3,  97.9,  98.2,  98.2,  97.6,\n",
       "        100.8,  96.8]),\n",
       " array([ 98. ,  98.5,  99.4,  98.2,  98.8,  99.2,  98. ,  98. ,  97.9,\n",
       "         97.6,  99.2,  97.2,  97.9,  98. ,  97.7,  98.8,  98.2,  98. ,\n",
       "         99. ,  98.4,  98.3,  99. ,  98. ,  96.8,  97.2,  97.8,  99. ,\n",
       "         98. ,  98.7,  97.9,  98.7,  98.2,  98.7,  98.8,  98.3,  97.8,\n",
       "         98.2,  99.9,  98.8,  98. , 100. ,  98.7,  97.8,  98.4,  98.4,\n",
       "         98.4,  98. ,  98.8,  96.8,  97.7,  99.1,  98.4,  97.8,  97.8,\n",
       "         99.3,  98. ,  98.2,  99.1,  96.8,  97.6,  97.9,  98.3,  98.2,\n",
       "         98. ,  96.7])]"
      ]
     },
     "execution_count": 62,
     "metadata": {},
     "output_type": "execute_result"
    }
   ],
   "source": [
    "female_bs = draw_bs_samples(females.temperature, np.mean, 1000)\n",
    "male_bs = draw_bs_samples(males.temperature, np.mean, 1000)\n",
    "female_bs[:2]"
   ]
  },
  {
   "cell_type": "code",
   "execution_count": 75,
   "metadata": {},
   "outputs": [
    {
     "data": {
      "text/plain": [
       "[<matplotlib.lines.Line2D at 0x14c871669b0>]"
      ]
     },
     "execution_count": 75,
     "metadata": {},
     "output_type": "execute_result"
    },
    {
     "data": {
      "image/png": "[encoded data removed]",
      "text/plain": [
       "<Figure size 432x288 with 1 Axes>"
      ]
     },
     "metadata": {
      "needs_background": "light"
     },
     "output_type": "display_data"
    }
   ],
   "source": [
    "for i in range(1000):\n",
    "    ecdf(female_bs[i],'green')\n",
    "\n",
    "for i in range(1000):\n",
    "    ecdf(male_bs[i], 'red')\n",
    "\n",
    "sample_f, = plt.plot(np.sort(females.temperature),np.arange(1,len(females.temperature)+1)/len(females.temperature),color='green', marker='.', alpha=0.5, label='Females')\n",
    "sample_m, = plt.plot(np.sort(males.temperature),np.arange(1,len(males.temperature)+1)/len(males.temperature),color='red', marker='.', alpha=0.5,label='Males')\n",
    "plt.legend(handles=[sample_f,sample_m])\n",
    "_"
   ]
  },
  {
   "cell_type": "markdown",
   "metadata": {},
   "source": [
    "The data shows that women are warmer than men normally. We need to now determine if that difference is a significant one. So we will subtract the respective pop means from each list, and add in the total mean and compare them then."
   ]
  },
  {
   "cell_type": "code",
   "execution_count": 87,
   "metadata": {},
   "outputs": [
    {
     "data": {
      "text/plain": [
       "array([98.55692308, 98.25076923, 98.25230769, 98.54153846, 98.51538462,\n",
       "       98.21076923, 98.30461538, 98.47384615, 98.47846154, 98.52307692])"
      ]
     },
     "execution_count": 87,
     "metadata": {},
     "output_type": "execute_result"
    }
   ],
   "source": [
    "fmeans =np.empty(len(female_bs))\n",
    "mmeans = np.empty(len(male_bs))\n",
    "for i in range(len(female_bs)):\n",
    "    fmeans[i] = np.mean(female_bs[i])\n",
    "\n",
    "for i in range(len(male_bs)):\n",
    "    mmeans[i] = np.mean(male_bs[i])\n",
    "    \n",
    "fmeans[:10]"
   ]
  },
  {
   "cell_type": "code",
   "execution_count": 100,
   "metadata": {},
   "outputs": [
    {
     "data": {
      "text/plain": [
       "Text(0, 0.5, 'Probability')"
      ]
     },
     "execution_count": 100,
     "metadata": {},
     "output_type": "execute_result"
    },
    {
     "data": {
      "image/png": "[encoded data removed]",
      "text/plain": [
       "<Figure size 432x288 with 1 Axes>"
      ]
     },
     "metadata": {
      "needs_background": "light"
     },
     "output_type": "display_data"
    }
   ],
   "source": [
    "_15 = plt.hist(fmeans, bins=int(np.sqrt(1000)), color='g',alpha=0.2, density=True)\n",
    "_15 = plt.hist(mmeans, bins=int(np.sqrt(1000)), color='r',alpha=0.2, density=True)\n",
    "plt.xlabel('Temperature')\n",
    "plt.ylabel('Probability')"
   ]
  },
  {
   "cell_type": "markdown",
   "metadata": {},
   "source": [
    "This shows the distribution in a hist plot. We need to intialize them both to a singular total pop mean, calculated earlier."
   ]
  },
  {
   "cell_type": "code",
   "execution_count": 88,
   "metadata": {},
   "outputs": [
    {
     "data": {
      "text/plain": [
       "array([98.40671846, 98.10056462, 98.10210308, 98.39133385, 98.36518   ,\n",
       "       98.06056462, 98.15441077, 98.32364154, 98.32825692, 98.37287231])"
      ]
     },
     "execution_count": 88,
     "metadata": {},
     "output_type": "execute_result"
    }
   ],
   "source": [
    "# Initializing both means to singular mean\n",
    "fmeans_shifted = fmeans - np.mean(fmeans) + np.mean(totalmeans)\n",
    "mmeans_shifted = mmeans - np.mean(mmeans) + np.mean(totalmeans)\n",
    "fmeans_shifted[:10]"
   ]
  },
  {
   "cell_type": "code",
   "execution_count": 105,
   "metadata": {},
   "outputs": [
    {
     "data": {
      "text/plain": [
       "Text(0, 0.5, 'Probability')"
      ]
     },
     "execution_count": 105,
     "metadata": {},
     "output_type": "execute_result"
    },
    {
     "data": {
      "image/png": "[encoded data removed]",
      "text/plain": [
       "<Figure size 432x288 with 1 Axes>"
      ]
     },
     "metadata": {
      "needs_background": "light"
     },
     "output_type": "display_data"
    }
   ],
   "source": [
    "_2 = plt.hist(fmeans_shifted, bins=int(np.sqrt(1000)), color='g',alpha=0.2, density=.5)\n",
    "_2 = plt.hist(mmeans_shifted, bins=int(np.sqrt(1000)), color='r',alpha=0.2,density=.5)\n",
    "plt.xlabel('Temperature')\n",
    "plt.ylabel('Probability')"
   ]
  },
  {
   "cell_type": "code",
   "execution_count": 110,
   "metadata": {},
   "outputs": [
    {
     "data": {
      "text/plain": [
       "0.001"
      ]
     },
     "execution_count": 110,
     "metadata": {},
     "output_type": "execute_result"
    }
   ],
   "source": [
    "# Taking the difference between the means\n",
    "diff_pop = fmeans - mmeans\n",
    "emp_diff = np.mean(females.temperature) - np.mean(males.temperature)\n",
    "p = np.sum(np.mean(diff_pop) >= emp_diff)/1000\n",
    "p"
   ]
  },
  {
   "cell_type": "code",
   "execution_count": 114,
   "metadata": {},
   "outputs": [
    {
     "data": {
      "text/plain": [
       "98.39959846153846"
      ]
     },
     "execution_count": 114,
     "metadata": {},
     "output_type": "execute_result"
    }
   ],
   "source": [
    "np.mean(fmeans)"
   ]
  },
  {
   "cell_type": "code",
   "execution_count": 115,
   "metadata": {},
   "outputs": [
    {
     "data": {
      "text/plain": [
       "98.10282461538462"
      ]
     },
     "execution_count": 115,
     "metadata": {},
     "output_type": "execute_result"
    }
   ],
   "source": [
    "np.mean(mmeans)"
   ]
  },
  {
   "cell_type": "markdown",
   "metadata": {},
   "source": [
    "The low p-value suggests therefore that even after standardizing the two populations, the null hypothesis can be rejected at even the 99% confidence level, and that women and men have statistically significant different mean temperatures.\n",
    "\n",
    "As explained by the histogram plot above, the mean temperature of females (98.39 deg F) is higher than males (98.10 deg F). "
   ]
  }
 ],
 "metadata": {
  "kernelspec": {
   "display_name": "Python 3",
   "language": "python",
   "name": "python3"
  },
  "language_info": {
   "codemirror_mode": {
    "name": "ipython",
    "version": 3
   },
   "file_extension": ".py",
   "mimetype": "text/x-python",
   "name": "python",
   "nbconvert_exporter": "python",
   "pygments_lexer": "ipython3",
   "version": "3.7.3"
  }
 },
 "nbformat": 4,
 "nbformat_minor": 1
}
